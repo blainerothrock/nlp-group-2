{
  "nbformat": 4,
  "nbformat_minor": 0,
  "metadata": {
    "accelerator": "GPU",
    "colab": {
      "name": "nlp_assignment_2.ipynb",
      "provenance": [],
      "private_outputs": true,
      "collapsed_sections": [],
      "include_colab_link": true
    },
    "kernelspec": {
      "display_name": "Python 3",
      "language": "python",
      "name": "python3"
    },
    "language_info": {
      "codemirror_mode": {
        "name": "ipython",
        "version": 3
      },
      "file_extension": ".py",
      "mimetype": "text/x-python",
      "name": "python",
      "nbconvert_exporter": "python",
      "pygments_lexer": "ipython3",
      "version": "3.7.4"
    }
  },
  "cells": [
    {
      "cell_type": "markdown",
      "metadata": {
        "id": "view-in-github",
        "colab_type": "text"
      },
      "source": [
        "<a href=\"https://colab.research.google.com/github/blainerothrock/nlp-group-2/blob/master/nlp_assignment_2.ipynb\" target=\"_parent\"><img src=\"https://colab.research.google.com/assets/colab-badge.svg\" alt=\"Open In Colab\"/></a>"
      ]
    },
    {
      "cell_type": "markdown",
      "metadata": {
        "colab_type": "text",
        "id": "h5suI3fCFjhO"
      },
      "source": [
        "# NLP Assignment 2 (Bengio and other Neural Language Models)"
      ]
    },
    {
      "cell_type": "code",
      "metadata": {
        "colab_type": "code",
        "id": "XD4GX_ezyPag",
        "colab": {}
      },
      "source": [
        "from __future__ import absolute_import, division, print_function\n",
        "\n",
        "%tensorflow_version 2.x\n",
        "import tensorflow.compat.v1 as tf\n",
        "tf.disable_v2_behavior()\n",
        "print(tf.__version__)\n",
        "\n",
        "#from google.colab import drive, files \n",
        "#drive.mount('/content/drive')\n",
        "\n",
        "import os, pickle\n",
        "import numpy as np\n",
        "import math\n",
        "import typing\n",
        "import matplotlib.pyplot as plt\n",
        "\n",
        "%matplotlib inline"
      ],
      "execution_count": 0,
      "outputs": []
    },
    {
      "cell_type": "code",
      "metadata": {
        "colab_type": "code",
        "id": "VnA8lII6Al51",
        "colab": {}
      },
      "source": [
        "blaine_ubuntu_data_path = '../data'\n",
        "blaine_data_path = '/Users/blaine/Google Drive File Stream/My Drive/Winter20/nlp/nlp_group2/data'\n",
        "data_path = 'drive/My Drive/Winter20/nlp/nlp_group2/data'\n",
        "grant_data_path = 'drive/My Drive/nlp_group2/data'\n",
        "sundar_data_path = 'drive/My Drive/nlp_group2/data'\n",
        "z_data_path = 'drive/My Drive/nlp_group2/data'\n",
        "sundar_local_path = '~/Workspaces/Q2/NLP/data'"
      ],
      "execution_count": 0,
      "outputs": []
    },
    {
      "cell_type": "code",
      "metadata": {
        "colab_type": "code",
        "id": "Hux8jIA0OWWU",
        "colab": {}
      },
      "source": [
        "data_path = grant_data_path"
      ],
      "execution_count": 0,
      "outputs": []
    },
    {
      "cell_type": "code",
      "metadata": {
        "colab_type": "code",
        "id": "5X8tKzUSzAlu",
        "colab": {}
      },
      "source": [
        "print(os.listdir(data_path))"
      ],
      "execution_count": 0,
      "outputs": []
    },
    {
      "cell_type": "markdown",
      "metadata": {
        "colab_type": "text",
        "id": "CWiLJQNrE72M"
      },
      "source": [
        "## Task 1\n",
        "Split train corpus with `batch_size=30` and `window=5` "
      ]
    },
    {
      "cell_type": "code",
      "metadata": {
        "colab_type": "code",
        "id": "V6iLwqmo_Do1",
        "colab": {}
      },
      "source": [
        "# load data\n",
        "int_train = pickle.load(open(os.path.join(data_path, 'group2.int_train.p'), 'rb'))\n",
        "int_validation = pickle.load(open(os.path.join(data_path, 'group2.int_valid.p'), 'rb'))\n",
        "int_test = pickle.load(open(os.path.join(data_path, 'group2.int_test.p'), 'rb'))\n",
        "train = pickle.load(open(os.path.join(data_path, 'group2.train.p'), 'rb'))\n",
        "vocab_dict = pickle.load(open(os.path.join(data_path, 'group2.vocab_dict.p'), 'rb'))\n",
        "# int_train = [vocab_dict[w] for w in train]"
      ],
      "execution_count": 0,
      "outputs": []
    },
    {
      "cell_type": "code",
      "metadata": {
        "colab_type": "code",
        "id": "0pw_br8mAJ58",
        "colab": {}
      },
      "source": [
        "print(int_train[:10], '\\n', train[:10])\n",
        "\n",
        "print(\"vocab len: %i\" % len(vocab_dict))\n",
        "print(\"int rep: %s\" % len(int_train))\n",
        "print(\"train token: %s\" % len(train))"
      ],
      "execution_count": 0,
      "outputs": []
    },
    {
      "cell_type": "code",
      "metadata": {
        "colab_type": "code",
        "id": "mFbxb_nIAQHn",
        "colab": {}
      },
      "source": [
        "# batch the train integer representations\n",
        "def gen_batches(context_size, num_batches, data):\n",
        "  num_data = len(data)\n",
        "\n",
        "  # removing remainder tokens\n",
        "  remainder = num_data % math.floor(num_data/num_batches)\n",
        "  print(remainder)\n",
        "  data = data[:num_data - remainder]\n",
        "  num_data = len(data)\n",
        "\n",
        "  # batches = np.array_split(data, math.floor(num_data)/batch_size)\n",
        "  batches = np.split(np.array(data),num_batches,axis=0)\n",
        "  return batches\n",
        "\n",
        "batches_words = gen_batches(5, 30, train)\n",
        "batches_int = gen_batches(5, 30, int_train)\n",
        "# batches_embeddings = gen_batches(5, 30, embeddings)"
      ],
      "execution_count": 0,
      "outputs": []
    },
    {
      "cell_type": "code",
      "metadata": {
        "colab_type": "code",
        "id": "mg3b1XELNCYk",
        "colab": {}
      },
      "source": [
        "def print_seq(batch, window, seq_idx):\n",
        "  input_tokens = batch[seq_idx:seq_idx+window]\n",
        "  target_token = batch[seq_idx+window]\n",
        "\n",
        "  print(\"input : \", input_tokens)\n",
        "  print(\"target: [\", target_token, \"]\\n\")"
      ],
      "execution_count": 0,
      "outputs": []
    },
    {
      "cell_type": "code",
      "metadata": {
        "colab_type": "code",
        "id": "dkBM381LNChw",
        "colab": {}
      },
      "source": [
        "print('--- batch 01 ---')\n",
        "print_seq(batches_words[0], 5, 0)\n",
        "print_seq(batches_words[0], 5, 1)\n",
        "print_seq(batches_words[0], 5, 2)\n",
        "\n",
        "print('-- batch 02 --')\n",
        "print_seq(batches_words[1], 5, 0)\n",
        "print_seq(batches_words[1], 5, 1)\n",
        "print_seq(batches_words[1], 5, 2)"
      ],
      "execution_count": 0,
      "outputs": []
    },
    {
      "cell_type": "markdown",
      "metadata": {
        "colab_type": "text",
        "id": "l6gNu8xBSizG"
      },
      "source": [
        "## Task 2: Bengio Style Feedforward network language model\n",
        "- TensorFlow version: `2.1.0`"
      ]
    },
    {
      "cell_type": "code",
      "metadata": {
        "colab_type": "code",
        "id": "RWCFC4p1RMPg",
        "colab": {}
      },
      "source": [
        "class BengioParams():\n",
        "\n",
        "  def __init__(self, name, vocab_dict):\n",
        "    self.name = name\n",
        "    \n",
        "    self.context_window = 5\n",
        "    self.num_batches = 30\n",
        "\n",
        "    self.vocab_len = len(vocab_dict)\n",
        "    \n",
        "    self.hidden_units = 50\n",
        "    self.embeddings_dim = 60\n",
        "    self.num_epochs = 20\n",
        "\n",
        "    self.learning_rate = 0.5\n",
        "\n",
        "    self.gpu_mem = 0.25\n",
        "    \n",
        "    self.tf_precision = tf.float32\n",
        "    self.np_precision = np.float32\n",
        "\n",
        "    self.init_scale = 0.5\n",
        "    self.max_grad = 10.0\n"
      ],
      "execution_count": 0,
      "outputs": []
    },
    {
      "cell_type": "code",
      "metadata": {
        "colab_type": "code",
        "id": "Cj6d3vk0U0lz",
        "colab": {}
      },
      "source": [
        "class BengioModel():\n",
        "  \"\"\"\n",
        "  Class implements Bengio NN model with Tensorflow accoring to the function:\n",
        "    y = b + Wx + Utanh(d + Hx)\n",
        "  \n",
        "  and \n",
        "    cost = softmax_cross_entropy?\n",
        "\n",
        "  \"\"\"\n",
        "\n",
        "  def __init__(self, params):\n",
        "\n",
        "    self.Y = tf.placeholder(\n",
        "        dtype=params.tf_precision,\n",
        "        shape=(params.num_batches, params.vocab_len),\n",
        "        name=\"Y\"\n",
        "    )\n",
        "    \n",
        "    self.X = tf.placeholder(\n",
        "        tf.int32, \n",
        "        shape=(params.num_batches, params.context_window),\n",
        "        name=\"X\"\n",
        "    )\n",
        "\n",
        "    # embeddings\n",
        "    self.C = tf.Variable(\n",
        "        tf.truncated_normal(\n",
        "            shape=(params.vocab_len, params.embeddings_dim),\n",
        "            mean=-1,\n",
        "            stddev=-1\n",
        "        ),\n",
        "        dtype=params.tf_precision,\n",
        "        name=\"C\"\n",
        "    )\n",
        "\n",
        "    self.W = tf.Variable(\n",
        "        tf.random_normal(\n",
        "            shape=(params.vocab_len, params.context_window * params.embeddings_dim)\n",
        "        ),\n",
        "        name=\"W\",\n",
        "        dtype=params.tf_precision\n",
        "    )\n",
        "    \n",
        "    self.H = tf.Variable(\n",
        "        tf.random_normal(\n",
        "            shape=(params.hidden_units, params.context_window * params.embeddings_dim)\n",
        "        ),\n",
        "        name=\"H\",\n",
        "        dtype=params.tf_precision\n",
        "    )\n",
        "\n",
        "    self.d = tf.Variable(\n",
        "        tf.random_normal(\n",
        "            shape=(params.hidden_units,)\n",
        "        ),\n",
        "        name=\"d\",\n",
        "        dtype=params.tf_precision\n",
        "    )\n",
        "\n",
        "    self.U = tf.Variable(\n",
        "        tf.random_normal(\n",
        "            (params.vocab_len, params.hidden_units)\n",
        "        ),\n",
        "        name=\"U\",\n",
        "        dtype=params.tf_precision\n",
        "    )\n",
        "\n",
        "    self.b = tf.Variable(\n",
        "        tf.random_normal(\n",
        "            shape=(params.vocab_len, )\n",
        "        ),\n",
        "        name=\"b\",\n",
        "        dtype=params.tf_precision\n",
        "    )\n",
        "\n",
        "    with tf.name_scope(\"Projection_Layer\"):\n",
        "      x = tf.nn.embedding_lookup(self.C, self.X)\n",
        "      x = tf.reshape(\n",
        "          x,\n",
        "          shape=(params.num_batches, params.context_window * params.embeddings_dim)\n",
        "      )\n",
        "\n",
        "    with tf.name_scope(\"Hidden_Layer\"):\n",
        "      Hx = tf.matmul(x, tf.transpose(self.H))\n",
        "      a = tf.nn.tanh(tf.add(Hx, self.d))\n",
        "\n",
        "    with tf.name_scope(\"Output_Layer\"):\n",
        "      Ua = tf.matmul(a, tf.transpose(self.U))\n",
        "      Wx = tf.matmul(x, tf.transpose(self.W))\n",
        "      Y_hat = tf.add(self.b, tf.add(Wx, Ua)) \n",
        "\n",
        "    with tf.name_scope(\"Cost\"):\n",
        "     self.cost = tf.reduce_mean( \n",
        "        tf.nn.softmax_cross_entropy_with_logits_v2(\n",
        "            labels=self.Y,\n",
        "            logits=Y_hat\n",
        "        )\n",
        "      )\n",
        "     self.perplexity = tf.exp(self.cost)\n",
        "\n",
        "    self.optimizer = tf.train.GradientDescentOptimizer(params.learning_rate).minimize(self.cost)"
      ],
      "execution_count": 0,
      "outputs": []
    },
    {
      "cell_type": "code",
      "metadata": {
        "colab_type": "code",
        "id": "is2xf4mESMVv",
        "colab": {}
      },
      "source": [
        "saver = tf.train.Saver()\n",
        "\n",
        "def spiltInputTarget(batch, win_idx, params):\n",
        "  _x = batch[win_idx:win_idx + params.context_window]\n",
        "  _y = np.zeros(params.vocab_len)\n",
        "  _y[batch[win_idx + params.context_window]] = 1\n",
        "  return _x, _y\n",
        "\n",
        "\n",
        "def run(model, params, batches_train_int, batches_validation_int, batches_test_int):\n",
        "\n",
        "  perplexity_history = []\n",
        "  cost_history = []\n",
        "\n",
        "  val_perplexity_history = []\n",
        "  val_cost_history = []\n",
        "\n",
        "  test_perplexity_history = []\n",
        "  test_cost_history = []\n",
        "  \n",
        "\n",
        "  gpu_options = tf.GPUOptions(per_process_gpu_memory_fraction=0.25)\n",
        "  with tf.Session(config=tf.ConfigProto(gpu_options=gpu_options, log_device_placement=True)) as sess:\n",
        "    initializer = tf.global_variables_initializer()\n",
        "    initializer.run()\n",
        "    step = 0\n",
        "    for epoch in range(params.num_epochs):\n",
        "      # run model with 30 batches for a window size\n",
        "      # for idx in total number of window sizes\n",
        "        # for batch in batch_int\n",
        "      win_idx = 0\n",
        "      while win_idx < (len(batches_train_int[0]) - params.context_window - 1):\n",
        "        batch_x = []\n",
        "        batch_y = []\n",
        "        for batch in batches_train_int:\n",
        "          _x, _y = spiltInputTarget(batch, win_idx, params)\n",
        "          batch_x.append(_x)\n",
        "          batch_y.append(_y)\n",
        "        \n",
        "        cost, perplexity, _ = sess.run(\n",
        "            [model.cost, model.perplexity, model.optimizer], \n",
        "            feed_dict={ model.X:batch_x, model.Y:batch_y }\n",
        "        )\n",
        "\n",
        "        # calculate validation & test preplexity after each epoch\n",
        "\n",
        "        if step % 1000 == 0:\n",
        "          print(\"train: step {}, cost: {}, perplexity: {}\".format(step, cost, perplexity))\n",
        "          perplexity_history.append(perplexity)\n",
        "          cost_history.append(cost)\n",
        "        \n",
        "        step+=1\n",
        "        win_idx+=1\n",
        "        \n",
        "      # save model after each epoch\n",
        "      save_path = saver.save(sess, os.path.join(data_path, \"/tmp/\" + params.name +\"_\" + str(epoch+1) + \".ckpt\"))\n",
        "      print(\"Model saved in path: %s\" % save_path)\n",
        "\n",
        "      # validation\n",
        "      win_idx = 0\n",
        "      val_perplexity = 0\n",
        "      val_cost = 0\n",
        "      while win_idx < (len(batches_validation_int[0]) - params.context_window - 1):\n",
        "        val_batch_x = []\n",
        "        val_batch_y = []\n",
        "        for batch in batches_validation_int:\n",
        "          _x, _y = spiltInputTarget(batch, win_idx, params)\n",
        "          val_batch_x.append(_x)\n",
        "          val_batch_y.append(_y)\n",
        "\n",
        "        cost, perplexity = sess.run(\n",
        "            [model.cost, model.perplexity], \n",
        "            feed_dict={ model.X:val_batch_x, model.Y:val_batch_y }\n",
        "        )\n",
        "        val_perplexity = perplexity\n",
        "        val_cost = cost\n",
        "        \n",
        "        win_idx+=1\n",
        "      \n",
        "      val_perplexity_history.append(val_perplexity)\n",
        "      val_cost_history.append(val_cost)\n",
        "      print(\"validation: epoch {}, cost: {}, perplexity: {}\".format(epoch+1, val_cost, val_perplexity))\n",
        "\n",
        "      # test\n",
        "      win_idx = 0\n",
        "      test_perplexity = 0\n",
        "      test_cost = 0\n",
        "      while win_idx < (len(batches_test_int[0]) - params.context_window - 1):\n",
        "        test_batch_x = []\n",
        "        test_batch_y = []\n",
        "        for batch in batches_test_int:\n",
        "          _x, _y = spiltInputTarget(batch, win_idx, params)\n",
        "          test_batch_x.append(_x)\n",
        "          test_batch_y.append(_y)\n",
        "\n",
        "        cost, perplexity = sess.run(\n",
        "            [model.cost, model.perplexity], \n",
        "            feed_dict={ model.X:test_batch_x, model.Y:test_batch_y }\n",
        "        )\n",
        "        test_perplexity = perplexity\n",
        "        test_cost = cost\n",
        "        \n",
        "        win_idx+=1\n",
        "      \n",
        "      test_perplexity_history.append(test_perplexity)\n",
        "      test_cost_history.append(test_cost)\n",
        "      print(\"test: epoch {}, cost: {}, perplexity: {}\".format(epoch+1, test_cost, test_perplexity_history))\n",
        "\n",
        "  return perplexity_history, cost_history, val_perplexity_history, val_cost_history, test_perplexity_history, test_cost_history\n"
      ],
      "execution_count": 0,
      "outputs": []
    },
    {
      "cell_type": "code",
      "metadata": {
        "colab_type": "code",
        "id": "rWBxECjWWXn4",
        "colab": {}
      },
      "source": [
        "# brown\n",
        "\n",
        "# read the brown corpus text file\n",
        "with open(os.path.join(data_path, 'brown_tokenized.txt'), 'r') as f:\n",
        "  brown_tokens_all = f.readline().split(\" \")\n",
        "\n",
        "# remove tokens with less than 3 freq\n",
        "brown_tok_freq = {}\n",
        "for idx, tok in enumerate(brown_tokens_all):\n",
        "  brown_tok_freq[tok] = brown_tok_freq.get(tok, 0) + 1\n",
        "\n",
        "brown_tokens_all = [tok for tok in filter(lambda x: brown_tok_freq[x] >= 3, brown_tokens_all)]  \n",
        "\n",
        "# create vocab\n",
        "brown_vocab = set([tok for tok in brown_tokens_all])\n",
        "\n",
        "# create train, validation, test\n",
        "brown_train = brown_tokens_all[:800000]\n",
        "brown_validation = brown_tokens_all[800000:1000000]\n",
        "brown_test = brown_tokens_all[1000000:]\n",
        "\n",
        "print(\"size of brown vocab: %i\" % len(brown_vocab))\n",
        "\n",
        "# integer representation\n",
        "brown_vocab_dict = {}\n",
        "for i, v in enumerate(brown_vocab):\n",
        "    brown_vocab_dict[v] = i\n",
        "\n",
        "brown_train_int = [brown_vocab_dict[tok] for tok in brown_train]\n",
        "brown_validation_int = [brown_vocab_dict[tok] for tok in brown_validation]\n",
        "brown_test_int = [brown_vocab_dict[tok] for tok in brown_test]"
      ],
      "execution_count": 0,
      "outputs": []
    },
    {
      "cell_type": "code",
      "metadata": {
        "colab_type": "code",
        "id": "7owo5_W9Wb7E",
        "colab": {}
      },
      "source": [
        "# train on brown\n",
        "# brown_train_int\n",
        "\n",
        "brown_params = BengioParams(brown_vocab_dict)\n",
        "brown_model = BengioModel(name=\"p2_brown\", params=brown_params)\n",
        "\n",
        "brown_train_batches_int = gen_batches(5, 30, brown_train_int)\n",
        "brown_val_batches_int = gen_batches(5, 30, brown_validation_int)\n",
        "brown_test_batches_int = gen_batches(5, 30, brown_test_int)\n",
        "\n",
        "brown_perplexity_history,  brown_cost_history, brown_val_perplexity_history, brown_val_cost_history, brown_test_perplexity_history, brown_test_cost_history = run(brown_model, brown_params, brown_train_batches_int, brown_val_batches_int, brown_test_batches_int)"
      ],
      "execution_count": 0,
      "outputs": []
    },
    {
      "cell_type": "code",
      "metadata": {
        "colab_type": "code",
        "id": "_1z2jH1dsIE_",
        "colab": {}
      },
      "source": [
        "# save brown files\n",
        "import pickle\n",
        "\n",
        "pickle.dump(brown_perplexity_history, open(os.path.join(data_path, 'brown_perplexity_history.p'), 'wb'))\n",
        "pickle.dump(brown_cost_history, open(os.path.join(data_path, 'brown_cost_history.p'), 'wb'))\n",
        "pickle.dump(brown_val_perplexity_history, open(os.path.join(data_path, 'brown_val_perplexity_history.p'), 'wb'))\n",
        "pickle.dump(brown_val_cost_history, open(os.path.join(data_path, 'brown_val_cost_history.p'), 'wb'))\n",
        "pickle.dump(brown_test_perplexity_history, open(os.path.join(data_path, 'brown_test_perplexity_history.p'), 'wb'))\n",
        "pickle.dump(brown_test_cost_history, open(os.path.join(data_path, 'brown_test_cost_history.p'), 'wb'))"
      ],
      "execution_count": 0,
      "outputs": []
    },
    {
      "cell_type": "code",
      "metadata": {
        "colab_type": "code",
        "id": "QPOb8kVXAzRa",
        "colab": {}
      },
      "source": [
        "# train our model\n",
        "class BengioModel2():\n",
        "  \"\"\"\n",
        "  Class implements Bengio NN model with Tensorflow accoring to the function:\n",
        "    y = b + Utanh(d + Hx)\n",
        "  \n",
        "  and \n",
        "    cost = softmax_cross_entropy?\n",
        "\n",
        "  \"\"\"\n",
        "\n",
        "  def __init__(self, params):\n",
        "\n",
        "    self.Y = tf.placeholder(\n",
        "        dtype=params.tf_precision,\n",
        "        shape=(params.num_batches, params.vocab_len),\n",
        "        name=\"Y\"\n",
        "    )\n",
        "    \n",
        "    self.X = tf.placeholder(\n",
        "        tf.int32, \n",
        "        shape=(params.num_batches, params.context_window),\n",
        "        name=\"X\"\n",
        "    )\n",
        "\n",
        "    # embeddings\n",
        "    self.C = tf.Variable(\n",
        "        tf.truncated_normal(\n",
        "            shape=(params.vocab_len, params.embeddings_dim),\n",
        "            mean=-1,\n",
        "            stddev=-1\n",
        "        ),\n",
        "        dtype=params.tf_precision,\n",
        "        name=\"C\"\n",
        "    )\n",
        "\n",
        "    # self.W = tf.Variable(\n",
        "    #     tf.random_normal(\n",
        "    #         shape=(params.vocab_len, params.context_window * params.embeddings_dim)\n",
        "    #     ),\n",
        "    #     name=\"W\",\n",
        "    #     dtype=params.tf_precision\n",
        "    # )\n",
        "    \n",
        "    self.H = tf.Variable(\n",
        "        tf.random_normal(\n",
        "            shape=(params.hidden_units, params.context_window * params.embeddings_dim)\n",
        "        ),\n",
        "        name=\"H\",\n",
        "        dtype=params.tf_precision\n",
        "    )\n",
        "\n",
        "    self.d = tf.Variable(\n",
        "        tf.random_normal(\n",
        "            shape=(params.hidden_units,)\n",
        "        ),\n",
        "        name=\"d\",\n",
        "        dtype=params.tf_precision\n",
        "    )\n",
        "\n",
        "    self.U = tf.Variable(\n",
        "        tf.random_normal(\n",
        "            (params.vocab_len, params.hidden_units)\n",
        "        ),\n",
        "        name=\"U\",\n",
        "        dtype=params.tf_precision\n",
        "    )\n",
        "\n",
        "    self.b = tf.Variable(\n",
        "        tf.random_normal(\n",
        "            shape=(params.vocab_len, )\n",
        "        ),\n",
        "        name=\"b\",\n",
        "        dtype=params.tf_precision\n",
        "    )\n",
        "\n",
        "    with tf.name_scope(\"Projection_Layer\"):\n",
        "      x = tf.nn.embedding_lookup(self.C, self.X)\n",
        "      x = tf.reshape(\n",
        "          x,\n",
        "          shape=(params.num_batches, params.context_window * params.embeddings_dim)\n",
        "      )\n",
        "\n",
        "    with tf.name_scope(\"Hidden_Layer\"):\n",
        "      Hx = tf.matmul(x, tf.transpose(self.H))\n",
        "      a = tf.nn.tanh(tf.add(Hx, self.d))\n",
        "\n",
        "    with tf.name_scope(\"Output_Layer\"):\n",
        "      Ua = tf.matmul(a, tf.transpose(self.U))\n",
        "      # Wx = tf.matmul(x, tf.transpose(self.W))\n",
        "      Y_hat = tf.add(self.b, Ua) \n",
        "\n",
        "    with tf.name_scope(\"Cost\"):\n",
        "     self.cost = tf.reduce_mean( \n",
        "        tf.nn.softmax_cross_entropy_with_logits_v2(\n",
        "            labels=self.Y,\n",
        "            logits=Y_hat\n",
        "        )\n",
        "      )\n",
        "     self.perplexity = tf.exp(self.cost)\n",
        "\n",
        "    self.optimizer = tf.train.GradientDescentOptimizer(params.learning_rate).minimize(self.cost)\n",
        "\n",
        "int_train = pickle.load(open(os.path.join(data_path, 'group2.int_train.p'), 'rb'))\n",
        "int_validation = pickle.load(open(os.path.join(data_path, 'group2.int_valid.p'), 'rb'))\n",
        "int_test = pickle.load(open(os.path.join(data_path, 'group2.int_test.p'), 'rb'))\n",
        "vocab_dict = pickle.load(open(os.path.join(data_path, 'group2.vocab_dict.p'), 'rb'))\n",
        "\n",
        "train_batches_int = gen_batches(5, 30, int_train)\n",
        "val_batches_int = gen_batches(5, 30, int_validation)\n",
        "test_batches_int = gen_batches(5, 30, int_test)\n",
        "\n",
        "run01_params = BengioParams(name=\"p2_run02\", vocab_dict=vocab_dict)\n",
        "run01_params.embedding_dimensions = 100\n",
        "run01_params.hidden_units = 100\n",
        "run01_params.context_window = 5\n",
        "run01_params.gpu_mem = .9\n",
        "\n",
        "run01_model = BengioModel2(params=run01_params)\n",
        "\n",
        "run01_perplexity_history,  run01_cost_history, run01_val_perplexity_history, run01_val_cost_history, run01_test_perplexity_history, run01_test_cost_history = run(run01_model, run01_params, train_batches_int, val_batches_int, test_batches_int)"
      ],
      "execution_count": 0,
      "outputs": []
    },
    {
      "cell_type": "code",
      "metadata": {
        "colab_type": "code",
        "id": "1SFcnpqwBpam",
        "colab": {}
      },
      "source": [
        "pickle.dump(run01_perplexity_history, open(os.path.join(data_path, 'p2_run01_perplexity_history.p'), 'wb'))\n",
        "pickle.dump(run01_cost_history, open(os.path.join(data_path, 'p2_run01_cost_history.p'), 'wb'))\n",
        "pickle.dump(run01_val_perplexity_history, open(os.path.join(data_path, 'p2_run01_val_perplexity_history.p'), 'wb'))\n",
        "pickle.dump(run01_val_cost_history, open(os.path.join(data_path, 'p2_run01_val_cost_history.p'), 'wb'))\n",
        "pickle.dump(run01_test_perplexity_history, open(os.path.join(data_path, 'p2_run01_test_perplexity_history.p'), 'wb'))\n",
        "pickle.dump(run01_test_cost_history, open(os.path.join(data_path, 'p2_run01_test_cost_history.p'), 'wb'))"
      ],
      "execution_count": 0,
      "outputs": []
    },
    {
      "cell_type": "code",
      "metadata": {
        "id": "jNGjNyoif9Ym",
        "colab_type": "code",
        "colab": {}
      },
      "source": [
        ""
      ],
      "execution_count": 0,
      "outputs": []
    },
    {
      "cell_type": "markdown",
      "metadata": {
        "id": "m6GEKw5qgft6",
        "colab_type": "text"
      },
      "source": [
        "## Plot Brown Perplexity and Cost\n"
      ]
    },
    {
      "cell_type": "code",
      "metadata": {
        "id": "-XbJDg43gk4G",
        "colab_type": "code",
        "colab": {}
      },
      "source": [
        "# get cost and perplexities\n",
        "if '/p2' not in data_path:\n",
        "  data_path += '/p2'\n",
        "\n",
        "# load brown perplexity and cost\n",
        "brown_perplexity_history = pickle.load(open(os.path.join(data_path, 'brown_perplexity_history.p'), \"rb\"))\n",
        "brown_cost_history = pickle.load(open(os.path.join(data_path, 'brown_cost_history.p'), \"rb\"))\n",
        "brown_val_perplexity_history = pickle.load(open(os.path.join(data_path, 'brown_val_perplexity_history.p'), \"rb\"))\n",
        "brown_val_cost_history = pickle.load(open(os.path.join(data_path, 'brown_val_cost_history.p'), \"rb\"))\n",
        "brown_test_perplexity_history = pickle.load(open(os.path.join(data_path, 'brown_test_perplexity_history.p'), \"rb\"))\n",
        "brown_test_cost_history = pickle.load(open(os.path.join(data_path, 'brown_test_cost_history.p'), \"rb\"))\n"
      ],
      "execution_count": 0,
      "outputs": []
    },
    {
      "cell_type": "markdown",
      "metadata": {
        "id": "TxneDJtBk0ZZ",
        "colab_type": "text"
      },
      "source": [
        "### Brown Perplexity"
      ]
    },
    {
      "cell_type": "code",
      "metadata": {
        "id": "XS3PGJnWh9-S",
        "colab_type": "code",
        "colab": {}
      },
      "source": [
        "plt.plot(np.log(brown_perplexity_history[1:]))\n",
        "plt.title('Brown Train Perplexity')\n",
        "plt.xlabel('Number of Steps')\n",
        "plt.ylabel('Log(Perplexity)')\n",
        "plt.show()\n",
        "\n",
        "plt.plot(np.log(brown_val_perplexity_history[1:]))\n",
        "plt.plot(np.log(brown_test_perplexity_history[1:]))\n",
        "plt.title('Brown Validation and Test Perplexity')\n",
        "plt.xlabel('Number of Epochs')\n",
        "plt.ylabel('Log(Perplexity)')\n",
        "plt.legend(['Validation', 'Test'])\n",
        "plt.show()"
      ],
      "execution_count": 0,
      "outputs": []
    },
    {
      "cell_type": "markdown",
      "metadata": {
        "id": "P7ESKVkSlaM_",
        "colab_type": "text"
      },
      "source": [
        "### Brown Cost"
      ]
    },
    {
      "cell_type": "code",
      "metadata": {
        "id": "VN-ZEgX2jBPD",
        "colab_type": "code",
        "colab": {}
      },
      "source": [
        "plt.plot(brown_cost_history[1:])\n",
        "plt.title('Brown Train Cost')\n",
        "plt.xlabel('Number of Steps')\n",
        "plt.ylabel('Cost')\n",
        "plt.show()\n",
        "\n",
        "plt.plot(brown_val_cost_history[1:])\n",
        "plt.plot(brown_test_cost_history[1:])\n",
        "plt.title('Brown Validation and Test Cost')\n",
        "plt.xlabel('Number of Epochs')\n",
        "plt.ylabel('Cost')\n",
        "plt.legend(['Validation', 'Test'])\n",
        "plt.show()"
      ],
      "execution_count": 0,
      "outputs": []
    },
    {
      "cell_type": "markdown",
      "metadata": {
        "id": "12Pm625_l0oe",
        "colab_type": "text"
      },
      "source": [
        "## Plot Corpus Perplexity and Cost"
      ]
    },
    {
      "cell_type": "code",
      "metadata": {
        "id": "wPOlB0E8lw_M",
        "colab_type": "code",
        "colab": {}
      },
      "source": [
        "# pickle.dump(run01_perplexity_history, open(os.path.join(data_path, 'p2_run01_perplexity_history.p'), 'wb'))\n",
        "# pickle.dump(run01_cost_history, open(os.path.join(data_path, 'p2_run01_cost_history.p'), 'wb'))\n",
        "# pickle.dump(run01_val_perplexity_history, open(os.path.join(data_path, 'p2_run01_val_perplexity_history.p'), 'wb'))\n",
        "# pickle.dump(run01_val_cost_history, open(os.path.join(data_path, 'p2_run01_val_cost_history.p'), 'wb'))\n",
        "# pickle.dump(run01_test_perplexity_history, open(os.path.join(data_path, 'p2_run01_test_perplexity_history.p'), 'wb'))\n",
        "# pickle.dump(run01_test_cost_history, open(os.path.join(data_path, 'p2_run01_test_cost_history.p'), 'wb'))\n",
        "\n",
        "# get cost and perplexities\n",
        "if '/p2' not in data_path:\n",
        "  data_path += '/p2'\n",
        "\n",
        "# load corpus perplexity and cost\n",
        "run01_perplexity_history = pickle.load(open(os.path.join(data_path, 'p2_run01_perplexity_history.p'), \"rb\"))\n",
        "run01_cost_history = pickle.load(open(os.path.join(data_path, 'p2_run01_cost_history.p'), \"rb\"))\n",
        "run01_val_perplexity_history = pickle.load(open(os.path.join(data_path, 'p2_run01_val_perplexity_history.p'), \"rb\"))\n",
        "run01_val_cost_history = pickle.load(open(os.path.join(data_path, 'p2_run01_val_cost_history.p'), \"rb\"))\n",
        "run01_test_perplexity_history = pickle.load(open(os.path.join(data_path, 'p2_run01_test_perplexity_history.p'), \"rb\"))\n",
        "run01_test_cost_history = pickle.load(open(os.path.join(data_path, 'p2_run01_test_cost_history.p'), \"rb\"))"
      ],
      "execution_count": 0,
      "outputs": []
    },
    {
      "cell_type": "markdown",
      "metadata": {
        "id": "PUj--3zumx66",
        "colab_type": "text"
      },
      "source": [
        "### Corpus Perplexity"
      ]
    },
    {
      "cell_type": "code",
      "metadata": {
        "id": "b80hC5IemX3s",
        "colab_type": "code",
        "colab": {}
      },
      "source": [
        "plt.plot(np.log(run01_perplexity_history[1:]))\n",
        "plt.title('Corpus Train Perplexity')\n",
        "plt.xlabel('Number of Steps')\n",
        "plt.ylabel('Log(Perplexity)')\n",
        "plt.show()\n",
        "\n",
        "plt.plot(np.log(run01_val_perplexity_history[1:]))\n",
        "plt.plot(np.log(run01_test_perplexity_history[1:]))\n",
        "plt.title('Corpus Validation and Test Perplexity')\n",
        "plt.xlabel('Number of Epochs')\n",
        "plt.ylabel('Log(Perplexity)')\n",
        "plt.legend(['Validation', 'Test'])\n",
        "plt.show()"
      ],
      "execution_count": 0,
      "outputs": []
    },
    {
      "cell_type": "markdown",
      "metadata": {
        "id": "W1ZK8M_WnjiN",
        "colab_type": "text"
      },
      "source": [
        "### Corpus Cost"
      ]
    },
    {
      "cell_type": "code",
      "metadata": {
        "id": "5LUmEZ5um7yo",
        "colab_type": "code",
        "colab": {}
      },
      "source": [
        "plt.plot(run01_cost_history[1:])\n",
        "plt.title('Corpus Train Cost')\n",
        "plt.xlabel('Number of Steps')\n",
        "plt.ylabel('Cost')\n",
        "plt.show()\n",
        "\n",
        "plt.plot(run01_val_cost_history[1:])\n",
        "plt.plot(run01_test_cost_history[1:])\n",
        "plt.title('Corpus Validation and Test Cost')\n",
        "plt.xlabel('Number of Epochs')\n",
        "plt.ylabel('Cost')\n",
        "plt.legend(['Validation', 'Test'])\n",
        "plt.show()"
      ],
      "execution_count": 0,
      "outputs": []
    },
    {
      "cell_type": "code",
      "metadata": {
        "id": "agrw-3L4nyR5",
        "colab_type": "code",
        "colab": {}
      },
      "source": [
        ""
      ],
      "execution_count": 0,
      "outputs": []
    }
  ]
}